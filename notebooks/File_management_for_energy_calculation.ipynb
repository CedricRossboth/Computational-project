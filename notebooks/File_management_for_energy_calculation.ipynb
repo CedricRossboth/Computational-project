{
 "cells": [
  {
   "cell_type": "code",
   "execution_count": 1,
   "id": "b380b8f7-86eb-4888-b141-ca8b7424144e",
   "metadata": {},
   "outputs": [],
   "source": [
    "import numpy as np\n",
    "import pandas as pd\n",
    "import matplotlib.pyplot as plt \n",
    "import cell2mol\n",
    "from cell2mol.elementdata import ElementData\n",
    "from pathlib import Path"
   ]
  },
  {
   "cell_type": "code",
   "execution_count": 2,
   "id": "52c8171d-86c9-4799-b76c-267c75e3f455",
   "metadata": {},
   "outputs": [],
   "source": [
    "Energies = pd.read_csv('Fe_Octhedral_complexes_rel_m_splitting.csv')\n",
    "list_refcodes_225 = list(Energies['refcode'])"
   ]
  },
  {
   "cell_type": "code",
   "execution_count": 3,
   "id": "1351f565-e70b-4d0a-9910-a7205f2c2583",
   "metadata": {},
   "outputs": [
    {
     "data": {
      "text/plain": [
       "(13512, 16)"
      ]
     },
     "execution_count": 3,
     "metadata": {},
     "output_type": "execute_result"
    }
   ],
   "source": [
    "Full_dataset = pd.read_csv('Group_original_database_with_ligands_15837.txt', delimiter='\\t')\n",
    "Full_dataset.shape"
   ]
  },
  {
   "cell_type": "code",
   "execution_count": 4,
   "id": "8ce9d130-0263-4867-ba8d-9ddfd7ee86df",
   "metadata": {},
   "outputs": [
    {
     "data": {
      "text/plain": [
       "(1520, 16)"
      ]
     },
     "execution_count": 4,
     "metadata": {},
     "output_type": "execute_result"
    }
   ],
   "source": [
    "# We extract only the complexes which are Octahedral iron complexes with 5 or 6 d electrons\n",
    "Octahedral_iron_dataset = Full_dataset[(Full_dataset['metal'] == 'Fe') & (Full_dataset['geometry'] == 'Octahedral') & ((Full_dataset['d_elec'] == 5) | (Full_dataset['d_elec'] == 6))]\n",
    "Octahedral_iron_dataset.shape"
   ]
  },
  {
   "cell_type": "code",
   "execution_count": 5,
   "id": "1f663d49-2703-43cc-b8a1-8dea96ced0cf",
   "metadata": {},
   "outputs": [
    {
     "data": {
      "text/plain": [
       "(1296, 16)"
      ]
     },
     "execution_count": 5,
     "metadata": {},
     "output_type": "execute_result"
    }
   ],
   "source": [
    "# The complexes which were already used for the training set should not be reused.\n",
    "df = Octahedral_iron_dataset[(~Octahedral_iron_dataset['refcode'].isin(list_refcodes_225))]\n",
    "df.shape"
   ]
  },
  {
   "cell_type": "code",
   "execution_count": 6,
   "id": "ad5eb7c7-cef4-445b-aca7-c297ae2a106f",
   "metadata": {},
   "outputs": [
    {
     "data": {
      "text/plain": [
       "(1252, 16)"
      ]
     },
     "execution_count": 6,
     "metadata": {},
     "output_type": "execute_result"
    }
   ],
   "source": [
    "# Makes a list of all complexes which have many times the same ligands, all the ligands which have a value count which is not 1.\n",
    "doublets_ligs = df.formula_ligs_list.value_counts()[df.formula_ligs_list.value_counts() != 1].index\n",
    "\n",
    "df = df[\n",
    "    (~df.formula_ligs_list.isin(doublets_ligs)) &\n",
    "    (~df.coord_sphere.apply(lambda x: 'H' in x)) # Complexes that have a hydrogen in its coordination sphere. They have to be deleted of the calculations because they were optimised and thus not in the xyz file.\n",
    "]\n",
    "df.shape"
   ]
  },
  {
   "cell_type": "code",
   "execution_count": 7,
   "id": "e8039ef4-004f-4c99-b007-5cb2eb9dcb9b",
   "metadata": {},
   "outputs": [
    {
     "data": {
      "text/html": [
       "<div>\n",
       "<style scoped>\n",
       "    .dataframe tbody tr th:only-of-type {\n",
       "        vertical-align: middle;\n",
       "    }\n",
       "\n",
       "    .dataframe tbody tr th {\n",
       "        vertical-align: top;\n",
       "    }\n",
       "\n",
       "    .dataframe thead th {\n",
       "        text-align: right;\n",
       "    }\n",
       "</style>\n",
       "<table border=\"1\" class=\"dataframe\">\n",
       "  <thead>\n",
       "    <tr style=\"text-align: right;\">\n",
       "      <th></th>\n",
       "      <th>refcode</th>\n",
       "      <th>metal</th>\n",
       "      <th>m_ox</th>\n",
       "      <th>totcharge</th>\n",
       "      <th>CN</th>\n",
       "      <th>N</th>\n",
       "      <th>geometry</th>\n",
       "      <th>min</th>\n",
       "      <th>coord_sphere</th>\n",
       "      <th>formula_ligs_list</th>\n",
       "      <th>TMC_formula</th>\n",
       "      <th>d_elec</th>\n",
       "      <th>elem_nr</th>\n",
       "      <th>groups</th>\n",
       "      <th>len_groups</th>\n",
       "      <th>name</th>\n",
       "      <th>rel_m</th>\n",
       "    </tr>\n",
       "  </thead>\n",
       "  <tbody>\n",
       "    <tr>\n",
       "      <th>3769</th>\n",
       "      <td>PEGZIM</td>\n",
       "      <td>Fe</td>\n",
       "      <td>2</td>\n",
       "      <td>0</td>\n",
       "      <td>6</td>\n",
       "      <td>132</td>\n",
       "      <td>Octahedral</td>\n",
       "      <td>0.14</td>\n",
       "      <td>('N', 'N', 'O', 'O', 'O', 'O')</td>\n",
       "      <td>['C2-N3', 'C2-N3', 'H2-O', 'H2-O', 'H2-O', 'H2...</td>\n",
       "      <td>H8-C4-N6-O4-Fe</td>\n",
       "      <td>6</td>\n",
       "      <td>26</td>\n",
       "      <td>['PEGZIM']</td>\n",
       "      <td>1</td>\n",
       "      <td>Fe_2_6_Octahedral_['N', 'N', 'O', 'O', 'O', 'O']</td>\n",
       "      <td>NaN</td>\n",
       "    </tr>\n",
       "    <tr>\n",
       "      <th>3856</th>\n",
       "      <td>USIMOA</td>\n",
       "      <td>Fe</td>\n",
       "      <td>2</td>\n",
       "      <td>2</td>\n",
       "      <td>6</td>\n",
       "      <td>132</td>\n",
       "      <td>Octahedral</td>\n",
       "      <td>0.03</td>\n",
       "      <td>('O', 'O', 'O', 'O', 'O', 'O')</td>\n",
       "      <td>['H4-C-O', 'H4-C-O', 'H4-C-O', 'H4-C-O', 'H4-C...</td>\n",
       "      <td>H24-C6-O6-Fe</td>\n",
       "      <td>6</td>\n",
       "      <td>26</td>\n",
       "      <td>['USIMOA']</td>\n",
       "      <td>1</td>\n",
       "      <td>Fe_2_6_Octahedral_['O', 'O', 'O', 'O', 'O', 'O']</td>\n",
       "      <td>NaN</td>\n",
       "    </tr>\n",
       "    <tr>\n",
       "      <th>4186</th>\n",
       "      <td>SEDQOI</td>\n",
       "      <td>Fe</td>\n",
       "      <td>3</td>\n",
       "      <td>-2</td>\n",
       "      <td>6</td>\n",
       "      <td>135</td>\n",
       "      <td>Octahedral</td>\n",
       "      <td>0.10</td>\n",
       "      <td>('C', 'C', 'C', 'C', 'C', 'N')</td>\n",
       "      <td>['C-N', 'C-N', 'C-N', 'C-N', 'C-N', 'H5-C5-N']</td>\n",
       "      <td>H5-C10-N6-Fe</td>\n",
       "      <td>5</td>\n",
       "      <td>26</td>\n",
       "      <td>['SEDQOI']</td>\n",
       "      <td>1</td>\n",
       "      <td>Fe_3_6_Octahedral_['C', 'C', 'C', 'C', 'C', 'N']</td>\n",
       "      <td>NaN</td>\n",
       "    </tr>\n",
       "    <tr>\n",
       "      <th>2949</th>\n",
       "      <td>BQIFEC10</td>\n",
       "      <td>Fe</td>\n",
       "      <td>2</td>\n",
       "      <td>-2</td>\n",
       "      <td>6</td>\n",
       "      <td>136</td>\n",
       "      <td>Octahedral</td>\n",
       "      <td>0.39</td>\n",
       "      <td>('C', 'C', 'C', 'C', 'N', 'N')</td>\n",
       "      <td>['C-N', 'C-N', 'C-N', 'C-N', 'H6-C6-N2']</td>\n",
       "      <td>H6-C10-N6-Fe</td>\n",
       "      <td>6</td>\n",
       "      <td>26</td>\n",
       "      <td>['BQIFEC10']</td>\n",
       "      <td>1</td>\n",
       "      <td>Fe_2_6_Octahedral_['C', 'C', 'C', 'C', 'N', 'N']</td>\n",
       "      <td>NaN</td>\n",
       "    </tr>\n",
       "    <tr>\n",
       "      <th>4197</th>\n",
       "      <td>LUXKEU</td>\n",
       "      <td>Fe</td>\n",
       "      <td>3</td>\n",
       "      <td>0</td>\n",
       "      <td>6</td>\n",
       "      <td>137</td>\n",
       "      <td>Octahedral</td>\n",
       "      <td>0.14</td>\n",
       "      <td>('C', 'C', 'C', 'N', 'N', 'N')</td>\n",
       "      <td>['C-N', 'C-N', 'C-N', 'H15-C6-N3']</td>\n",
       "      <td>H15-C9-N6-Fe</td>\n",
       "      <td>5</td>\n",
       "      <td>26</td>\n",
       "      <td>['LUXKEU']</td>\n",
       "      <td>1</td>\n",
       "      <td>Fe_3_6_Octahedral_['C', 'C', 'C', 'N', 'N', 'N']</td>\n",
       "      <td>NaN</td>\n",
       "    </tr>\n",
       "    <tr>\n",
       "      <th>...</th>\n",
       "      <td>...</td>\n",
       "      <td>...</td>\n",
       "      <td>...</td>\n",
       "      <td>...</td>\n",
       "      <td>...</td>\n",
       "      <td>...</td>\n",
       "      <td>...</td>\n",
       "      <td>...</td>\n",
       "      <td>...</td>\n",
       "      <td>...</td>\n",
       "      <td>...</td>\n",
       "      <td>...</td>\n",
       "      <td>...</td>\n",
       "      <td>...</td>\n",
       "      <td>...</td>\n",
       "      <td>...</td>\n",
       "      <td>...</td>\n",
       "    </tr>\n",
       "    <tr>\n",
       "      <th>4356</th>\n",
       "      <td>UHEZOX</td>\n",
       "      <td>Fe</td>\n",
       "      <td>3</td>\n",
       "      <td>0</td>\n",
       "      <td>6</td>\n",
       "      <td>215</td>\n",
       "      <td>Octahedral</td>\n",
       "      <td>1.50</td>\n",
       "      <td>('Cl', 'N', 'N', 'N', 'O', 'O')</td>\n",
       "      <td>['Cl', 'H21-C19-N3-O2']</td>\n",
       "      <td>H21-C19-N3-O2-Cl-Fe</td>\n",
       "      <td>5</td>\n",
       "      <td>26</td>\n",
       "      <td>['UHEZOX']</td>\n",
       "      <td>1</td>\n",
       "      <td>Fe_3_6_Octahedral_['Cl', 'N', 'N', 'N', 'O', 'O']</td>\n",
       "      <td>NaN</td>\n",
       "    </tr>\n",
       "    <tr>\n",
       "      <th>4487</th>\n",
       "      <td>TEJMUS</td>\n",
       "      <td>Fe</td>\n",
       "      <td>3</td>\n",
       "      <td>1</td>\n",
       "      <td>6</td>\n",
       "      <td>215</td>\n",
       "      <td>Octahedral</td>\n",
       "      <td>0.28</td>\n",
       "      <td>('N', 'N', 'N', 'N', 'O', 'O')</td>\n",
       "      <td>['H13-C10-N2-O', 'H13-C10-N2-O']</td>\n",
       "      <td>H26-C20-N4-O2-Fe</td>\n",
       "      <td>5</td>\n",
       "      <td>26</td>\n",
       "      <td>['TEJMUS']</td>\n",
       "      <td>1</td>\n",
       "      <td>Fe_3_6_Octahedral_['N', 'N', 'N', 'N', 'O', 'O']</td>\n",
       "      <td>NaN</td>\n",
       "    </tr>\n",
       "    <tr>\n",
       "      <th>4329</th>\n",
       "      <td>WABYIJ</td>\n",
       "      <td>Fe</td>\n",
       "      <td>3</td>\n",
       "      <td>0</td>\n",
       "      <td>6</td>\n",
       "      <td>215</td>\n",
       "      <td>Octahedral</td>\n",
       "      <td>1.18</td>\n",
       "      <td>('Cl', 'Cl', 'N', 'N', 'O', 'O')</td>\n",
       "      <td>['Cl', 'Cl', 'H12-C13-N-O2', 'H5-C5-N']</td>\n",
       "      <td>H17-C18-N2-O2-Cl2-Fe</td>\n",
       "      <td>5</td>\n",
       "      <td>26</td>\n",
       "      <td>['WABYIJ']</td>\n",
       "      <td>1</td>\n",
       "      <td>Fe_3_6_Octahedral_['Cl', 'Cl', 'N', 'N', 'O', ...</td>\n",
       "      <td>NaN</td>\n",
       "    </tr>\n",
       "    <tr>\n",
       "      <th>4617</th>\n",
       "      <td>TUBWIW</td>\n",
       "      <td>Fe</td>\n",
       "      <td>3</td>\n",
       "      <td>0</td>\n",
       "      <td>6</td>\n",
       "      <td>215</td>\n",
       "      <td>Octahedral</td>\n",
       "      <td>1.53</td>\n",
       "      <td>('N', 'N', 'N', 'O', 'O', 'O')</td>\n",
       "      <td>['H4-C6-N-O2', 'H4-C6-N-O2', 'H4-C6-N-O2']</td>\n",
       "      <td>H12-C18-N3-O6-Fe</td>\n",
       "      <td>5</td>\n",
       "      <td>26</td>\n",
       "      <td>['TUBWIW']</td>\n",
       "      <td>1</td>\n",
       "      <td>Fe_3_6_Octahedral_['N', 'N', 'N', 'O', 'O', 'O']</td>\n",
       "      <td>NaN</td>\n",
       "    </tr>\n",
       "    <tr>\n",
       "      <th>3782</th>\n",
       "      <td>MUXCAL</td>\n",
       "      <td>Fe</td>\n",
       "      <td>2</td>\n",
       "      <td>0</td>\n",
       "      <td>6</td>\n",
       "      <td>216</td>\n",
       "      <td>Octahedral</td>\n",
       "      <td>1.00</td>\n",
       "      <td>('N', 'N', 'O', 'O', 'O', 'O')</td>\n",
       "      <td>['H12-C6-N-O5', 'H12-C6-N-O5']</td>\n",
       "      <td>H24-C12-N2-O10-Fe</td>\n",
       "      <td>6</td>\n",
       "      <td>26</td>\n",
       "      <td>['MUXCAL']</td>\n",
       "      <td>1</td>\n",
       "      <td>Fe_2_6_Octahedral_['N', 'N', 'O', 'O', 'O', 'O']</td>\n",
       "      <td>NaN</td>\n",
       "    </tr>\n",
       "  </tbody>\n",
       "</table>\n",
       "<p>150 rows × 17 columns</p>\n",
       "</div>"
      ],
      "text/plain": [
       "       refcode metal  m_ox  totcharge  CN    N    geometry   min  \\\n",
       "3769    PEGZIM    Fe     2          0   6  132  Octahedral  0.14   \n",
       "3856    USIMOA    Fe     2          2   6  132  Octahedral  0.03   \n",
       "4186    SEDQOI    Fe     3         -2   6  135  Octahedral  0.10   \n",
       "2949  BQIFEC10    Fe     2         -2   6  136  Octahedral  0.39   \n",
       "4197    LUXKEU    Fe     3          0   6  137  Octahedral  0.14   \n",
       "...        ...   ...   ...        ...  ..  ...         ...   ...   \n",
       "4356    UHEZOX    Fe     3          0   6  215  Octahedral  1.50   \n",
       "4487    TEJMUS    Fe     3          1   6  215  Octahedral  0.28   \n",
       "4329    WABYIJ    Fe     3          0   6  215  Octahedral  1.18   \n",
       "4617    TUBWIW    Fe     3          0   6  215  Octahedral  1.53   \n",
       "3782    MUXCAL    Fe     2          0   6  216  Octahedral  1.00   \n",
       "\n",
       "                          coord_sphere  \\\n",
       "3769    ('N', 'N', 'O', 'O', 'O', 'O')   \n",
       "3856    ('O', 'O', 'O', 'O', 'O', 'O')   \n",
       "4186    ('C', 'C', 'C', 'C', 'C', 'N')   \n",
       "2949    ('C', 'C', 'C', 'C', 'N', 'N')   \n",
       "4197    ('C', 'C', 'C', 'N', 'N', 'N')   \n",
       "...                                ...   \n",
       "4356   ('Cl', 'N', 'N', 'N', 'O', 'O')   \n",
       "4487    ('N', 'N', 'N', 'N', 'O', 'O')   \n",
       "4329  ('Cl', 'Cl', 'N', 'N', 'O', 'O')   \n",
       "4617    ('N', 'N', 'N', 'O', 'O', 'O')   \n",
       "3782    ('N', 'N', 'O', 'O', 'O', 'O')   \n",
       "\n",
       "                                      formula_ligs_list           TMC_formula  \\\n",
       "3769  ['C2-N3', 'C2-N3', 'H2-O', 'H2-O', 'H2-O', 'H2...        H8-C4-N6-O4-Fe   \n",
       "3856  ['H4-C-O', 'H4-C-O', 'H4-C-O', 'H4-C-O', 'H4-C...          H24-C6-O6-Fe   \n",
       "4186     ['C-N', 'C-N', 'C-N', 'C-N', 'C-N', 'H5-C5-N']          H5-C10-N6-Fe   \n",
       "2949           ['C-N', 'C-N', 'C-N', 'C-N', 'H6-C6-N2']          H6-C10-N6-Fe   \n",
       "4197                 ['C-N', 'C-N', 'C-N', 'H15-C6-N3']          H15-C9-N6-Fe   \n",
       "...                                                 ...                   ...   \n",
       "4356                            ['Cl', 'H21-C19-N3-O2']   H21-C19-N3-O2-Cl-Fe   \n",
       "4487                   ['H13-C10-N2-O', 'H13-C10-N2-O']      H26-C20-N4-O2-Fe   \n",
       "4329            ['Cl', 'Cl', 'H12-C13-N-O2', 'H5-C5-N']  H17-C18-N2-O2-Cl2-Fe   \n",
       "4617         ['H4-C6-N-O2', 'H4-C6-N-O2', 'H4-C6-N-O2']      H12-C18-N3-O6-Fe   \n",
       "3782                     ['H12-C6-N-O5', 'H12-C6-N-O5']     H24-C12-N2-O10-Fe   \n",
       "\n",
       "      d_elec  elem_nr        groups  len_groups  \\\n",
       "3769       6       26    ['PEGZIM']           1   \n",
       "3856       6       26    ['USIMOA']           1   \n",
       "4186       5       26    ['SEDQOI']           1   \n",
       "2949       6       26  ['BQIFEC10']           1   \n",
       "4197       5       26    ['LUXKEU']           1   \n",
       "...      ...      ...           ...         ...   \n",
       "4356       5       26    ['UHEZOX']           1   \n",
       "4487       5       26    ['TEJMUS']           1   \n",
       "4329       5       26    ['WABYIJ']           1   \n",
       "4617       5       26    ['TUBWIW']           1   \n",
       "3782       6       26    ['MUXCAL']           1   \n",
       "\n",
       "                                                   name  rel_m  \n",
       "3769   Fe_2_6_Octahedral_['N', 'N', 'O', 'O', 'O', 'O']    NaN  \n",
       "3856   Fe_2_6_Octahedral_['O', 'O', 'O', 'O', 'O', 'O']    NaN  \n",
       "4186   Fe_3_6_Octahedral_['C', 'C', 'C', 'C', 'C', 'N']    NaN  \n",
       "2949   Fe_2_6_Octahedral_['C', 'C', 'C', 'C', 'N', 'N']    NaN  \n",
       "4197   Fe_3_6_Octahedral_['C', 'C', 'C', 'N', 'N', 'N']    NaN  \n",
       "...                                                 ...    ...  \n",
       "4356  Fe_3_6_Octahedral_['Cl', 'N', 'N', 'N', 'O', 'O']    NaN  \n",
       "4487   Fe_3_6_Octahedral_['N', 'N', 'N', 'N', 'O', 'O']    NaN  \n",
       "4329  Fe_3_6_Octahedral_['Cl', 'Cl', 'N', 'N', 'O', ...    NaN  \n",
       "4617   Fe_3_6_Octahedral_['N', 'N', 'N', 'O', 'O', 'O']    NaN  \n",
       "3782   Fe_2_6_Octahedral_['N', 'N', 'O', 'O', 'O', 'O']    NaN  \n",
       "\n",
       "[150 rows x 17 columns]"
      ]
     },
     "execution_count": 7,
     "metadata": {},
     "output_type": "execute_result"
    }
   ],
   "source": [
    "# Only the 150 complexes with the least amount of electrons are kept.\n",
    "df_150 = df.sort_values(by='N').head(150)\n",
    "df_150 = df_150.copy()\n",
    "df_150.loc[:, 'rel_m'] = np.nan\n",
    "df_150"
   ]
  },
  {
   "cell_type": "code",
   "execution_count": 8,
   "id": "10cca110-ab8b-484f-8c13-be06b765511e",
   "metadata": {},
   "outputs": [],
   "source": [
    "# Makes a list of all refcodes for easier implementation afterwards.\n",
    "df_150_list_refcode = list(df_150['refcode'])\n",
    "\n",
    "# It is verified that none of the testing complexes are in the training set.\n",
    "for iron in df_150_list_refcode:\n",
    "    if iron in list_refcodes_225:\n",
    "        print(f'There is a doublet in the training/testing set: {iron}')"
   ]
  },
  {
   "cell_type": "code",
   "execution_count": 9,
   "id": "d232c213-91c8-4b57-80f1-7c1c18e8c2d2",
   "metadata": {},
   "outputs": [],
   "source": [
    "elementdatabase = ElementData()"
   ]
  },
  {
   "cell_type": "code",
   "execution_count": 10,
   "id": "4e373fd7-6dca-45b4-bd74-40bfa8170ff5",
   "metadata": {},
   "outputs": [
    {
     "name": "stdout",
     "output_type": "stream",
     "text": [
      "150\n"
     ]
    }
   ],
   "source": [
    "parent_folder = Path('1-Iron')\n",
    "\n",
    "i = 0\n",
    "\n",
    "# Looks through all the files in the 1-Iron folder.\n",
    "for entry in parent_folder.iterdir():\n",
    "    # Finds the name of the complex by replacing the end of name.\n",
    "    refcode = entry.name.replace('_TMC_1.gmol', '')\n",
    "    # If the complex is in the dataset of octahedral iron complexes that weren't use in the training/testing of the model, calculate the R0\n",
    "    if refcode in df_150_list_refcode:\n",
    "        # Defines the path relative to the writing direction.\n",
    "        path = f'1-Iron/{entry.name}'\n",
    "        # Creates the cell2mol object\n",
    "        mol = np.load(path, allow_pickle = True)\n",
    "        r_rel = 0\n",
    "        # First finds the iron metal center (usually the first element in the file so it could have been done in one loop, but if it was not the case, this would still work)\n",
    "        for atom in mol.atoms:\n",
    "            if atom.label == 'Fe':\n",
    "                Fe_coords = atom.coord\n",
    "                CN = atom.nbonds\n",
    "                r_M = elementdatabase.CovalentRadius3[atom.label]\n",
    "        # Then applies the formula to find the relative metal radius.\n",
    "        for atom in mol.atoms:\n",
    "            if atom.mconnec > 0 and not(atom.label == 'Fe'):\n",
    "                r_rel += np.linalg.norm(np.array(atom.coord)-Fe_coords)\n",
    "                r_rel -= elementdatabase.CovalentRadius3[atom.label]\n",
    "        \n",
    "        r_rel /= CN*r_M\n",
    "        df_150.loc[df_150['refcode'] == refcode, 'rel_m'] = r_rel\n",
    "\n",
    "        # Tracks the number of complexes to be sure that the ones in the dataset with 15837 complexes are the same as in the dataset of 1-Iron.\n",
    "        i+=1\n",
    "\n",
    "print(i)"
   ]
  },
  {
   "cell_type": "code",
   "execution_count": 11,
   "id": "39fd1cab-ec48-4626-ac48-ccb23c2d759a",
   "metadata": {},
   "outputs": [
    {
     "data": {
      "image/png": "[encoded data removed]",
      "text/plain": [
       "<Figure size 640x480 with 1 Axes>"
      ]
     },
     "metadata": {},
     "output_type": "display_data"
    }
   ],
   "source": [
    "plt.hist(list(df_150[\"rel_m\"]));"
   ]
  },
  {
   "cell_type": "markdown",
   "id": "900bbb0c-4494-4fd5-a82c-e3a94d710d45",
   "metadata": {},
   "source": [
    "### It is verified the formula for the calculation of the relative metal radius was well implemented.\n",
    "### It is done by comparing what is obtained when the same formula is applied to the complexes where the relative metal radius was already given."
   ]
  },
  {
   "cell_type": "code",
   "execution_count": 12,
   "id": "0bdf6ab9-e5df-4d4c-9282-595373fba3d7",
   "metadata": {},
   "outputs": [
    {
     "name": "stdout",
     "output_type": "stream",
     "text": [
      "225\n"
     ]
    }
   ],
   "source": [
    "i = 0\n",
    "rel_m_dataset_225_calc = {}\n",
    "\n",
    "# Looks through all the files in the 1-Iron folder.\n",
    "for entry in parent_folder.iterdir():\n",
    "    # Finds the name of the complex by replacing the end of name.\n",
    "    refcode = entry.name.replace('_TMC_1.gmol', '')\n",
    "    # If the complex is in the dataset of octahedral iron complexes that weren't use in the training/testing of the model, calculate the R0\n",
    "    if refcode in list_refcodes_225:\n",
    "        # Defines the path relative to the writing direction.\n",
    "        path = f'1-Iron/{entry.name}'\n",
    "        # Creates the cell2mol object\n",
    "        mol = np.load(path, allow_pickle = True)\n",
    "        r_rel = 0\n",
    "        # First finds the iron metal center (usually the first element in the file so it could have been done in one loop, but if it was not the case, this would still work)\n",
    "        for atom in mol.atoms:\n",
    "            if atom.label == 'Fe':\n",
    "                Fe_coords = atom.coord\n",
    "                CN = atom.nbonds\n",
    "                r_M = elementdatabase.CovalentRadius3[atom.label]\n",
    "        # Then applies the formula to find the relative metal radius.\n",
    "        for atom in mol.atoms:\n",
    "            if atom.mconnec > 0 and not(atom.label == 'Fe'):\n",
    "                r_rel += np.linalg.norm(np.array(atom.coord)-Fe_coords)\n",
    "                r_rel -= elementdatabase.CovalentRadius3[atom.label]\n",
    "        \n",
    "        r_rel /= CN*r_M\n",
    "        rel_m_dataset_225_calc[refcode] = round(r_rel, 3)\n",
    "\n",
    "        # Tracks the number of complexes to be sure that the ones in the dataset with 15837 complexes are the same as in the dataset of 1-Iron.\n",
    "        i+=1\n",
    "\n",
    "print(i)\n",
    "    "
   ]
  },
  {
   "cell_type": "code",
   "execution_count": 13,
   "id": "2d6395da-2533-409e-8ddf-e31ca843303c",
   "metadata": {},
   "outputs": [],
   "source": [
    "rel_m_dataset_225_given = list(Energies['rel_m'])"
   ]
  },
  {
   "cell_type": "code",
   "execution_count": 14,
   "id": "8ccfb233-8c1a-406f-b0ac-a0978405854e",
   "metadata": {},
   "outputs": [],
   "source": [
    "ordered_rel_m_dataset_225_calc = []\n",
    "for name in list_refcodes_225:\n",
    "    ordered_rel_m_dataset_225_calc.append(rel_m_dataset_225_calc[name])"
   ]
  },
  {
   "cell_type": "code",
   "execution_count": 15,
   "id": "cf724359-7f4f-4c11-a99e-ba9aef715125",
   "metadata": {},
   "outputs": [
    {
     "data": {
      "image/png": "[encoded data removed]",
      "text/plain": [
       "<Figure size 1500x1000 with 1 Axes>"
      ]
     },
     "metadata": {},
     "output_type": "display_data"
    }
   ],
   "source": [
    "# Allows to visualize how the datasets are distributed (X == X --> all the data or chose X == X_train or X == X_test).\n",
    "fig = plt.figure(figsize=(6, 4), dpi=250)\n",
    "ax = fig.add_subplot(111)\n",
    "ax.set(xlabel = r'Given $\\mathrm{r_{rel}}$', ylabel = r'Calculated $\\mathrm{r_{rel}}$')\n",
    "ax.scatter(rel_m_dataset_225_given, ordered_rel_m_dataset_225_calc)\n",
    "ax.plot([0.834, 1.15],[0.834, 1.15])\n",
    "plt.grid(False)\n",
    "# Add a subtle background color\n",
    "ax.set_facecolor('#f9f9f9')\n",
    "\n",
    "# Remove spines for cleaner appearance\n",
    "ax.spines['top'].set_visible(False)\n",
    "ax.spines['right'].set_visible(False)"
   ]
  },
  {
   "cell_type": "markdown",
   "id": "ef1eef6b-67aa-438b-ac57-7f7fc4d4818b",
   "metadata": {},
   "source": [
    "### It seems the formula was well coded as only a few points are not following a perfect relationship."
   ]
  },
  {
   "cell_type": "markdown",
   "id": "ddd7cefb-68c6-4570-8c28-cee9da77f616",
   "metadata": {},
   "source": [
    "### Files are created in the correct synthax to be optimized; the parameters of the calculations are added at the top of the file. The charge of the complex and the spin multiplicity are written in the same line and then the coordinate block is written. \n",
    "### In this block, there is first the symbol of the atom, then 0 if it's a heavy atom and -1 if it's a hydrogen (the -1 means that it is an atom that will have its position optimized) and finally the x y z coordinates. A blank line has to be written at the end of the file."
   ]
  },
  {
   "cell_type": "code",
   "execution_count": 16,
   "id": "0c186d1c-bf6b-47b5-8c73-8f26869558e9",
   "metadata": {},
   "outputs": [
    {
     "name": "stdout",
     "output_type": "stream",
     "text": [
      "150\n"
     ]
    }
   ],
   "source": [
    "i = 0\n",
    "\n",
    "folder = Path(\"Iron_150_complexes_to_optimize_com\")\n",
    "folder.mkdir(exist_ok=True)\n",
    "\n",
    "\n",
    "# Looks through all the files in the 1-Iron folder.\n",
    "for entry in parent_folder.iterdir():\n",
    "    # Finds the name of the complex by replacing the end of name.\n",
    "    refcode = entry.name.replace('_TMC_1.gmol', '')\n",
    "    # If the complex is in the dataset of octahedral iron complexes that weren't use in the training/testing of the model, calculate the R0\n",
    "    if refcode in df_150_list_refcode:\n",
    "        # Defines the path of the file to write in relative to the coding direction.\n",
    "        file_path = Path(f'{folder}/{refcode}_1_opt.com')\n",
    "\n",
    "        # Creates the cell2mol object\n",
    "        path = f'1-Iron/{entry.name}'\n",
    "        mol = np.load(path, allow_pickle = True)\n",
    "        charge = mol.totcharge\n",
    "        multiplicity = (mol.eleccount - mol.totcharge) % 2 + 1\n",
    "\n",
    "\n",
    "    \n",
    "        with file_path.open('w') as f:\n",
    "            f.write(f\"\"\"%nproc=4\n",
    "%mem=12gb\n",
    "#p UB3LYP/def2svp opt=(maxstep=50) IOp(3/76=1000001500) IOp(3/77=0720008500) IOp(3/78=0810010000) scf=(maxconventionalcycles=120,xqc) int=ultrafine\n",
    "#p EmpiricalDispersion=GD3BJ\n",
    "\n",
    "{refcode}_1_opt\n",
    "\n",
    "{charge} {multiplicity}\n",
    "\"\"\")\n",
    "            for atom, coord in zip(mol.labels, mol.coord):\n",
    "                if atom == 'H':\n",
    "                    f.write(f\"{atom} 0 {coord[0]:.6f} {coord[1]:.6f} {coord[2]:.6f}\\n\")\n",
    "                else:\n",
    "                    f.write(f\"{atom} -1 {coord[0]:.6f} {coord[1]:.6f} {coord[2]:.6f}\\n\")\n",
    "                    \n",
    "            f.write('\\n')\n",
    "                    \n",
    "    \n",
    "        # Tracks the number of complexes to be sure that the ones in the dataset with 15837 complexes are the same as in the dataset of 1-Iron.\n",
    "\n",
    "        \n",
    "        i+=1\n",
    "\n",
    "\n",
    "print(i)\n",
    "    "
   ]
  },
  {
   "cell_type": "markdown",
   "id": "eb62f193-1953-44c6-90df-2ffe9994e1b1",
   "metadata": {},
   "source": [
    "### After optimization, the log files were translated to xyz files using openbabel. These files have to changed to have the parameters of calculations at the top of the file. They were submitted to SPE calculations in high and low spins."
   ]
  },
  {
   "cell_type": "code",
   "execution_count": 17,
   "id": "69b17310-af89-4faa-9999-b89fd931779e",
   "metadata": {},
   "outputs": [
    {
     "name": "stdout",
     "output_type": "stream",
     "text": [
      "150\n"
     ]
    }
   ],
   "source": [
    "i = 0\n",
    "\n",
    "folder = Path(\"Low_spin_SPE_calculation\")\n",
    "folder.mkdir(exist_ok=True)\n",
    "\n",
    "parent_folder = Path('optimized_geom')\n",
    "\n",
    "# Looks through all the files in the 1-Iron folder.\n",
    "for entry in parent_folder.iterdir():\n",
    "    # Finds the name of the complex by replacing the end of name.\n",
    "    refcode = entry.name.replace('.xyz', '')\n",
    "    # If the complex is in the dataset of octahedral iron complexes that weren't use in the training/testing of the model, calculate the R0\n",
    "    if refcode in df_150_list_refcode:\n",
    "\n",
    "        optimized_coordinates_file = f\"optimized_geom/{refcode}.xyz\"\n",
    "        # Open the input file and read lines\n",
    "        with open(optimized_coordinates_file, 'r') as xyz:\n",
    "            coords = xyz.readlines()\n",
    "\n",
    "        # Creates the cell2mol object\n",
    "        path = f'1-Iron/{refcode}_TMC_1.gmol'\n",
    "        mol = np.load(path, allow_pickle = True)\n",
    "        charge = mol.totcharge\n",
    "        low_spin = (mol.eleccount - mol.totcharge) % 2 + 1\n",
    "        # Defines the path of the file to write in relative to the coding direction.\n",
    "        file_path = Path(f'{folder}/{refcode}_1_opt_{low_spin}_SPE.com')\n",
    "\n",
    "        with file_path.open('w') as f:\n",
    "            f.write(f\"\"\"%nproc=4\n",
    "%mem=12gb\n",
    "#p UB3LYP/def2TZVP IOp(3/76=1000001500) IOp(3/77=0720008500) IOp(3/78=0810010000) scf=(maxconventionalcycles=120,xqc) int=ultrafine\n",
    "#p EmpiricalDispersion=GD3BJ\n",
    "\n",
    "{refcode}_1_opt_{low_spin}_SPE\n",
    "\n",
    "{charge} {low_spin}\n",
    "\"\"\")\n",
    "            f.writelines(coords[2:])\n",
    "                    \n",
    "            f.write('\\n')\n",
    "                    \n",
    "    \n",
    "        # Tracks the number of complexes to be sure that the ones in the dataset with 15837 complexes are the same as in the dataset of 1-Iron.\n",
    "\n",
    "        \n",
    "        i+=1\n",
    "\n",
    "\n",
    "print(i)\n",
    "    "
   ]
  },
  {
   "cell_type": "code",
   "execution_count": 18,
   "id": "c542f2cf-7e87-40a2-9163-efb40621f034",
   "metadata": {},
   "outputs": [
    {
     "name": "stdout",
     "output_type": "stream",
     "text": [
      "150\n"
     ]
    }
   ],
   "source": [
    "i = 0\n",
    "\n",
    "folder = Path(\"High_spin_SPE_calculation\")\n",
    "folder.mkdir(exist_ok=True)\n",
    "\n",
    "parent_folder = Path('optimized_geom')\n",
    "\n",
    "# Looks through all the files in the 1-Iron folder.\n",
    "for entry in parent_folder.iterdir():\n",
    "    # Finds the name of the complex by replacing the end of name.\n",
    "    refcode = entry.name.replace('.xyz', '')\n",
    "    # If the complex is in the dataset of octahedral iron complexes that weren't use in the training/testing of the model, calculate the R0\n",
    "    if refcode in df_150_list_refcode:\n",
    "\n",
    "        optimized_coordinates_file = f\"optimized_geom/{refcode}.xyz\"\n",
    "        # Open the input file and read lines\n",
    "        with open(optimized_coordinates_file, 'r') as xyz:\n",
    "            coords = xyz.readlines()\n",
    "\n",
    "        # Creates the cell2mol object\n",
    "        path = f'1-Iron/{refcode}_TMC_1.gmol'\n",
    "        mol = np.load(path, allow_pickle = True)\n",
    "        charge = mol.totcharge\n",
    "        low_spin = (mol.eleccount - mol.totcharge) % 2 + 1\n",
    "        if low_spin == 1:\n",
    "            high_spin = 5\n",
    "        elif low_spin == 2:\n",
    "            high_spin = 6\n",
    "\n",
    "        # Defines the path of the file to write in relative to the coding direction.\n",
    "        file_path = Path(f'{folder}/{refcode}_1_opt_{high_spin}_SPE.com')\n",
    "\n",
    "        with file_path.open('w') as f:\n",
    "            f.write(f\"\"\"%nproc=4\n",
    "%mem=12gb\n",
    "#p UB3LYP/def2TZVP IOp(3/76=1000001500) IOp(3/77=0720008500) IOp(3/78=0810010000) scf=(maxconventionalcycles=120,xqc) int=ultrafine\n",
    "#p EmpiricalDispersion=GD3BJ\n",
    "\n",
    "{refcode}_1_opt_{high_spin}_SPE\n",
    "\n",
    "{charge} {high_spin}\n",
    "\"\"\")\n",
    "            f.writelines(coords[2:])\n",
    "                    \n",
    "            f.write('\\n')\n",
    "                    \n",
    "    \n",
    "        # Tracks the number of complexes to be sure that the ones in the dataset with 15837 complexes are the same as in the dataset of 1-Iron.\n",
    "\n",
    "        \n",
    "        i+=1\n",
    "\n",
    "\n",
    "print(i)\n",
    "    "
   ]
  },
  {
   "cell_type": "markdown",
   "id": "c1fdd8da-ae30-46ee-b2bf-6536baba1fce",
   "metadata": {},
   "source": [
    "### The energy value obtained from the calculation was obtained from the log files out of the two types of SPE calculations. The spin value calculated was also collected. Overall, all relevant information were put in the file real_world_energies_and_relative_metal_radius.csv"
   ]
  }
 ],
 "metadata": {
  "kernelspec": {
   "display_name": "Python 3 (ipykernel)",
   "language": "python",
   "name": "python3"
  },
  "language_info": {
   "codemirror_mode": {
    "name": "ipython",
    "version": 3
   },
   "file_extension": ".py",
   "mimetype": "text/x-python",
   "name": "python",
   "nbconvert_exporter": "python",
   "pygments_lexer": "ipython3",
   "version": "3.11.11"
  }
 },
 "nbformat": 4,
 "nbformat_minor": 5
}
